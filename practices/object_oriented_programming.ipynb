{
  "cells": [
    {
      "cell_type": "markdown",
      "metadata": {
        "id": "BbClJ_hPUiyz"
      },
      "source": [
        "# Object Oriented Programming Challenge\n",
        "\n",
        "For this challenge, create a bank account class that has two attributes:\n",
        "\n",
        "* owner\n",
        "* balance\n",
        "\n",
        "and two methods:\n",
        "\n",
        "* deposit\n",
        "* withdraw\n",
        "\n",
        "As an added requirement, withdrawals may not exceed the available balance.\n",
        "\n",
        "Instantiate your class, make several deposits and withdrawals, and test to make sure the account can't be overdrawn.\n",
        "\n",
        "Also you need to take care of \"__str__\" and \"__repr__\" dunder methods"
      ]
    },
    {
      "cell_type": "code",
      "execution_count": null,
      "metadata": {
        "id": "ImSfgKLTUiy5"
      },
      "outputs": [],
      "source": [
        "class Bank:\n",
        "    def __init__(self, owner, balance):\n",
        "      self.owner = owner\n",
        "      self.balance = balance\n",
        "\n",
        "    def deposite(slef):\n",
        "      pass\n",
        "\n",
        "    def withdraw(self):\n",
        "      pass"
      ]
    },
    {
      "cell_type": "code",
      "execution_count": null,
      "metadata": {
        "id": "sunFv1WAUiy7"
      },
      "outputs": [],
      "source": [
        "# 1. Instantiate the class\n",
        "acct1 = Account('Ali',100)"
      ]
    },
    {
      "cell_type": "code",
      "execution_count": null,
      "metadata": {
        "id": "V2uc741-Uiy8",
        "outputId": "ea405301-df55-4e1e-ac07-099c03417d04"
      },
      "outputs": [
        {
          "name": "stdout",
          "output_type": "stream",
          "text": [
            "Account owner:   Jose\n",
            "Account balance: $100\n"
          ]
        }
      ],
      "source": [
        "# 2. Print the object\n",
        "print(acct1)"
      ]
    },
    {
      "cell_type": "code",
      "execution_count": null,
      "metadata": {
        "id": "gpwxJT40Uiy_",
        "outputId": "5aa6bf42-fcdd-465f-f59e-5f8824c203ce"
      },
      "outputs": [
        {
          "data": {
            "text/plain": [
              "'Jose'"
            ]
          },
          "execution_count": 4,
          "metadata": {},
          "output_type": "execute_result"
        }
      ],
      "source": [
        "# 3. Show the account owner attribute\n",
        "acct1.owner"
      ]
    },
    {
      "cell_type": "code",
      "execution_count": null,
      "metadata": {
        "id": "N-RNll_kUiy_",
        "outputId": "97ffc9aa-b98d-4d2c-9a64-5b447ccd9829"
      },
      "outputs": [
        {
          "data": {
            "text/plain": [
              "100"
            ]
          },
          "execution_count": 5,
          "metadata": {},
          "output_type": "execute_result"
        }
      ],
      "source": [
        "# 4. Show the account balance attribute\n",
        "acct1.balance"
      ]
    },
    {
      "cell_type": "code",
      "execution_count": null,
      "metadata": {
        "id": "ICiLqnWLUizA",
        "outputId": "1cb08750-7555-4444-bbb6-53ec80dc9712"
      },
      "outputs": [
        {
          "name": "stdout",
          "output_type": "stream",
          "text": [
            "Deposit Accepted\n"
          ]
        }
      ],
      "source": [
        "# 5. Make a series of deposits and withdrawals\n",
        "acct1.deposit(50)"
      ]
    },
    {
      "cell_type": "code",
      "execution_count": null,
      "metadata": {
        "id": "uplid7NLUizB",
        "outputId": "853c24fc-a799-43c6-a989-f0c80100adee"
      },
      "outputs": [
        {
          "name": "stdout",
          "output_type": "stream",
          "text": [
            "Withdrawal Accepted\n"
          ]
        }
      ],
      "source": [
        "acct1.withdraw(75)"
      ]
    },
    {
      "cell_type": "code",
      "execution_count": null,
      "metadata": {
        "id": "Qr2lktMmUizD",
        "outputId": "434cb44b-026f-4baa-87e3-9ef06cbb5d96"
      },
      "outputs": [
        {
          "name": "stdout",
          "output_type": "stream",
          "text": [
            "Funds Unavailable!\n"
          ]
        }
      ],
      "source": [
        "# 6. Make a withdrawal that exceeds the available balance\n",
        "acct1.withdraw(500)"
      ]
    }
  ],
  "metadata": {
    "kernelspec": {
      "display_name": "Python 3 (ipykernel)",
      "language": "python",
      "name": "python3"
    },
    "language_info": {
      "codemirror_mode": {
        "name": "ipython",
        "version": 3
      },
      "file_extension": ".py",
      "mimetype": "text/x-python",
      "name": "python",
      "nbconvert_exporter": "python",
      "pygments_lexer": "ipython3",
      "version": "3.10.11"
    },
    "colab": {
      "provenance": []
    }
  },
  "nbformat": 4,
  "nbformat_minor": 0
}